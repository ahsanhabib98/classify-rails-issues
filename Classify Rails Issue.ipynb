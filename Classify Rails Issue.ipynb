{
 "cells": [
  {
   "cell_type": "code",
   "execution_count": 1,
   "id": "2b033b78",
   "metadata": {},
   "outputs": [],
   "source": [
    "import warnings\n",
    "warnings.filterwarnings('ignore')"
   ]
  },
  {
   "cell_type": "code",
   "execution_count": 2,
   "id": "e6b37582",
   "metadata": {},
   "outputs": [],
   "source": [
    "\n",
    "import json\n",
    "import string\n",
    "import requests\n",
    "import itertools\n",
    "from datetime import datetime\n",
    "from collections import Counter\n",
    "\n",
    "import numpy as np\n",
    "import pandas as pd\n",
    "import matplotlib.pyplot as plt\n",
    "\n",
    "import torch\n",
    "from torch.utils.data import Dataset\n",
    "\n",
    "from transformers import EvalPrediction\n",
    "from transformers import TrainingArguments, Trainer\n",
    "from transformers import BertTokenizer, BertForSequenceClassification, Trainer, TrainingArguments\n",
    "\n",
    "from sklearn.model_selection import train_test_split\n",
    "from sklearn.preprocessing import MultiLabelBinarizer\n",
    "from sklearn.metrics import f1_score, hamming_loss"
   ]
  },
  {
   "cell_type": "code",
   "execution_count": 3,
   "id": "09c8e666",
   "metadata": {},
   "outputs": [],
   "source": [
    "# Specify the file name to read\n",
    "file_name = 'github_issues.json'\n",
    "\n",
    "# Read the contents of the JSON file\n",
    "with open(file_name, 'r') as file:\n",
    "    issues = json.load(file)"
   ]
  },
  {
   "cell_type": "code",
   "execution_count": 4,
   "id": "9f9272a3",
   "metadata": {},
   "outputs": [],
   "source": [
    "# Extracting data\n",
    "data = []\n",
    "labels = []\n",
    "dates = []\n",
    "reporters = []\n",
    "\n",
    "for issue in issues:\n",
    "    data.append(issue['title'])\n",
    "    \n",
    "    if issue['labels']:\n",
    "        labels.append([label['name'] for label in issue['labels']])\n",
    "    else:\n",
    "        labels.append(['unlabeled'])\n",
    "        \n",
    "    created_at = datetime.strptime(issue['created_at'], '%Y-%m-%dT%H:%M:%SZ')\n",
    "    dates.append(created_at)\n",
    "    \n",
    "    reporters.append(issue['user']['login'])"
   ]
  },
  {
   "cell_type": "code",
   "execution_count": 5,
   "id": "208741cb",
   "metadata": {},
   "outputs": [
    {
     "data": {
      "text/html": [
       "<div>\n",
       "<style scoped>\n",
       "    .dataframe tbody tr th:only-of-type {\n",
       "        vertical-align: middle;\n",
       "    }\n",
       "\n",
       "    .dataframe tbody tr th {\n",
       "        vertical-align: top;\n",
       "    }\n",
       "\n",
       "    .dataframe thead th {\n",
       "        text-align: right;\n",
       "    }\n",
       "</style>\n",
       "<table border=\"1\" class=\"dataframe\">\n",
       "  <thead>\n",
       "    <tr style=\"text-align: right;\">\n",
       "      <th></th>\n",
       "      <th>issues</th>\n",
       "      <th>labels</th>\n",
       "      <th>dates</th>\n",
       "      <th>reporters</th>\n",
       "    </tr>\n",
       "  </thead>\n",
       "  <tbody>\n",
       "    <tr>\n",
       "      <th>0</th>\n",
       "      <td>Add missing alias to errors array</td>\n",
       "      <td>[activemodel]</td>\n",
       "      <td>2024-02-03 01:01:09</td>\n",
       "      <td>laomatt</td>\n",
       "    </tr>\n",
       "    <tr>\n",
       "      <th>1</th>\n",
       "      <td>esbuild precompilation error in rails 7.1.3</td>\n",
       "      <td>[unlabeled]</td>\n",
       "      <td>2024-02-02 14:43:34</td>\n",
       "      <td>PhilippGsell</td>\n",
       "    </tr>\n",
       "    <tr>\n",
       "      <th>2</th>\n",
       "      <td>Add webp as a default to active_storage.web_im...</td>\n",
       "      <td>[railties, docs, activestorage]</td>\n",
       "      <td>2024-02-02 12:51:26</td>\n",
       "      <td>lewispb</td>\n",
       "    </tr>\n",
       "    <tr>\n",
       "      <th>3</th>\n",
       "      <td>set default_enforce_utf8 to false</td>\n",
       "      <td>[actionview]</td>\n",
       "      <td>2024-02-02 11:11:21</td>\n",
       "      <td>ironsand</td>\n",
       "    </tr>\n",
       "    <tr>\n",
       "      <th>4</th>\n",
       "      <td>Add class name to enum validation exception me...</td>\n",
       "      <td>[activerecord]</td>\n",
       "      <td>2024-02-02 11:07:18</td>\n",
       "      <td>amkisko</td>\n",
       "    </tr>\n",
       "    <tr>\n",
       "      <th>...</th>\n",
       "      <td>...</td>\n",
       "      <td>...</td>\n",
       "      <td>...</td>\n",
       "      <td>...</td>\n",
       "    </tr>\n",
       "    <tr>\n",
       "      <th>495</th>\n",
       "      <td>ActiveStorage::DiskController fails for upload...</td>\n",
       "      <td>[attached PR, With reproduction steps, actives...</td>\n",
       "      <td>2024-01-05 14:01:29</td>\n",
       "      <td>alexandergitter</td>\n",
       "    </tr>\n",
       "    <tr>\n",
       "      <th>496</th>\n",
       "      <td>Document `upsert`/`upsert_all` `on_duplicate: ...</td>\n",
       "      <td>[activerecord]</td>\n",
       "      <td>2024-01-05 13:49:07</td>\n",
       "      <td>lucasmazza</td>\n",
       "    </tr>\n",
       "    <tr>\n",
       "      <th>497</th>\n",
       "      <td>Active Storage Variant causing Aws::S3::Errors...</td>\n",
       "      <td>[activestorage]</td>\n",
       "      <td>2024-01-04 18:44:36</td>\n",
       "      <td>basiszwo</td>\n",
       "    </tr>\n",
       "    <tr>\n",
       "      <th>498</th>\n",
       "      <td>Port `ActiveRecord::AttributeMethods::Query` t...</td>\n",
       "      <td>[activemodel, activerecord]</td>\n",
       "      <td>2024-01-04 16:07:32</td>\n",
       "      <td>seanpdoyle</td>\n",
       "    </tr>\n",
       "    <tr>\n",
       "      <th>499</th>\n",
       "      <td>CI: SQLite adapter is running in Trilogy tests</td>\n",
       "      <td>[activerecord, ci issues]</td>\n",
       "      <td>2024-01-04 15:49:54</td>\n",
       "      <td>skipkayhil</td>\n",
       "    </tr>\n",
       "  </tbody>\n",
       "</table>\n",
       "<p>500 rows × 4 columns</p>\n",
       "</div>"
      ],
      "text/plain": [
       "                                                issues  \\\n",
       "0                    Add missing alias to errors array   \n",
       "1          esbuild precompilation error in rails 7.1.3   \n",
       "2    Add webp as a default to active_storage.web_im...   \n",
       "3                    set default_enforce_utf8 to false   \n",
       "4    Add class name to enum validation exception me...   \n",
       "..                                                 ...   \n",
       "495  ActiveStorage::DiskController fails for upload...   \n",
       "496  Document `upsert`/`upsert_all` `on_duplicate: ...   \n",
       "497  Active Storage Variant causing Aws::S3::Errors...   \n",
       "498  Port `ActiveRecord::AttributeMethods::Query` t...   \n",
       "499     CI: SQLite adapter is running in Trilogy tests   \n",
       "\n",
       "                                                labels               dates  \\\n",
       "0                                        [activemodel] 2024-02-03 01:01:09   \n",
       "1                                          [unlabeled] 2024-02-02 14:43:34   \n",
       "2                      [railties, docs, activestorage] 2024-02-02 12:51:26   \n",
       "3                                         [actionview] 2024-02-02 11:11:21   \n",
       "4                                       [activerecord] 2024-02-02 11:07:18   \n",
       "..                                                 ...                 ...   \n",
       "495  [attached PR, With reproduction steps, actives... 2024-01-05 14:01:29   \n",
       "496                                     [activerecord] 2024-01-05 13:49:07   \n",
       "497                                    [activestorage] 2024-01-04 18:44:36   \n",
       "498                        [activemodel, activerecord] 2024-01-04 16:07:32   \n",
       "499                          [activerecord, ci issues] 2024-01-04 15:49:54   \n",
       "\n",
       "           reporters  \n",
       "0            laomatt  \n",
       "1       PhilippGsell  \n",
       "2            lewispb  \n",
       "3           ironsand  \n",
       "4            amkisko  \n",
       "..               ...  \n",
       "495  alexandergitter  \n",
       "496       lucasmazza  \n",
       "497         basiszwo  \n",
       "498       seanpdoyle  \n",
       "499       skipkayhil  \n",
       "\n",
       "[500 rows x 4 columns]"
      ]
     },
     "execution_count": 5,
     "metadata": {},
     "output_type": "execute_result"
    }
   ],
   "source": [
    "dataset = {'issues': data, 'labels': labels, 'dates': dates, 'reporters': reporters}\n",
    "# Create a pandas DataFrame\n",
    "df = pd.DataFrame(dataset)\n",
    "df"
   ]
  },
  {
   "cell_type": "code",
   "execution_count": 6,
   "id": "264a32ef",
   "metadata": {
    "scrolled": true
   },
   "outputs": [
    {
     "data": {
      "image/png": "[encoded data removed]",
      "text/plain": [
       "<Figure size 720x432 with 1 Axes>"
      ]
     },
     "metadata": {
      "needs_background": "light"
     },
     "output_type": "display_data"
    }
   ],
   "source": [
    "# Plotting the number of issues over time\n",
    "plt.figure(figsize=(10, 6))\n",
    "plt.hist(df['dates'], bins=30, color='skyblue', edgecolor='black')\n",
    "plt.xlabel('Date')\n",
    "plt.ylabel('Number of Issues')\n",
    "plt.title('Number of Issues Over Time')\n",
    "plt.xticks(rotation=45)\n",
    "plt.tight_layout()\n",
    "plt.show()"
   ]
  },
  {
   "cell_type": "code",
   "execution_count": 7,
   "id": "12ec06a6",
   "metadata": {},
   "outputs": [
    {
     "data": {
      "text/plain": [
       "seanpdoyle         30\n",
       "joshuay03          15\n",
       "djmb               15\n",
       "casperisfine       15\n",
       "fatkodima          15\n",
       "                   ..\n",
       "tgxworld            5\n",
       "gagalago            5\n",
       "tsvallender         5\n",
       "Takahashi-Seiji     5\n",
       "basiszwo            5\n",
       "Length: 81, dtype: int64"
      ]
     },
     "execution_count": 7,
     "metadata": {},
     "output_type": "execute_result"
    }
   ],
   "source": [
    "reporter_counts = [reporter for reporter in df['reporters']]\n",
    "pd.Series(reporter_counts).value_counts()"
   ]
  },
  {
   "cell_type": "code",
   "execution_count": 8,
   "id": "b6daccde",
   "metadata": {},
   "outputs": [
    {
     "data": {
      "image/png": "[encoded data removed]",
      "text/plain": [
       "<Figure size 720x432 with 1 Axes>"
      ]
     },
     "metadata": {
      "needs_background": "light"
     },
     "output_type": "display_data"
    }
   ],
   "source": [
    "reporter_counts = df['reporters'].value_counts()\n",
    "\n",
    "# Selecting the top ten counts\n",
    "top_ten_reporters = reporter_counts.head(10)\n",
    "\n",
    "# Plotting the top ten counts\n",
    "plt.figure(figsize=(10, 6))\n",
    "top_ten_reporters.plot(kind='bar')\n",
    "plt.title('Top Ten Reporters')\n",
    "plt.xlabel('Reporters')\n",
    "plt.ylabel('Counts')\n",
    "plt.xticks(rotation=45, ha='right')  # Rotate x-labels for better readability\n",
    "plt.tight_layout()\n",
    "plt.show()"
   ]
  },
  {
   "cell_type": "code",
   "execution_count": 9,
   "id": "29ff30fd",
   "metadata": {},
   "outputs": [
    {
     "data": {
      "text/plain": [
       "activerecord               200\n",
       "railties                    75\n",
       "unlabeled                   60\n",
       "activestorage               60\n",
       "docs                        50\n",
       "actionview                  45\n",
       "actionpack                  30\n",
       "activesupport               25\n",
       "With reproduction steps     25\n",
       "attached PR                 20\n",
       "activemodel                 15\n",
       "more-information-needed     10\n",
       "actionmailbox               10\n",
       "actiontext                  10\n",
       "actionmailer                10\n",
       "ci issues                    5\n",
       "dtype: int64"
      ]
     },
     "execution_count": 9,
     "metadata": {},
     "output_type": "execute_result"
    }
   ],
   "source": [
    "label_list = list(itertools.chain.from_iterable(df['labels']))\n",
    "pd.Series(label_list).value_counts()"
   ]
  },
  {
   "cell_type": "code",
   "execution_count": 10,
   "id": "72f07d65",
   "metadata": {},
   "outputs": [
    {
     "data": {
      "image/png": "[encoded data removed]",
      "text/plain": [
       "<Figure size 720x432 with 1 Axes>"
      ]
     },
     "metadata": {
      "needs_background": "light"
     },
     "output_type": "display_data"
    }
   ],
   "source": [
    "label_counts = pd.Series(label_list).value_counts()\n",
    "\n",
    "# Selecting the top ten counts\n",
    "top_ten_labels = label_counts.head(10)\n",
    "\n",
    "# Plotting the top ten counts\n",
    "plt.figure(figsize=(10, 6))\n",
    "top_ten_labels.plot(kind='bar')\n",
    "plt.title('Top Ten Labels')\n",
    "plt.xlabel('Labels')\n",
    "plt.ylabel('Counts')\n",
    "plt.xticks(rotation=45, ha='right')  # Rotate x-labels for better readability\n",
    "plt.tight_layout()\n",
    "plt.show()"
   ]
  },
  {
   "cell_type": "code",
   "execution_count": 11,
   "id": "e1e211dc",
   "metadata": {},
   "outputs": [
    {
     "data": {
      "text/plain": [
       "array([[0., 0., 0., ..., 0., 0., 0.],\n",
       "       [0., 0., 0., ..., 0., 0., 1.],\n",
       "       [0., 0., 0., ..., 0., 1., 0.],\n",
       "       ...,\n",
       "       [0., 0., 0., ..., 0., 0., 0.],\n",
       "       [0., 0., 0., ..., 0., 0., 0.],\n",
       "       [0., 0., 0., ..., 0., 0., 0.]], dtype=float32)"
      ]
     },
     "execution_count": 11,
     "metadata": {},
     "output_type": "execute_result"
    }
   ],
   "source": [
    "multilabel = MultiLabelBinarizer()\n",
    "labels = multilabel.fit_transform(df['labels']).astype('float32')\n",
    "labels"
   ]
  },
  {
   "cell_type": "code",
   "execution_count": 12,
   "id": "cf626903",
   "metadata": {},
   "outputs": [],
   "source": [
    "issues = df['issues'].tolist()\n",
    "\n",
    "# Split the dataset into training and testing sets\n",
    "X_train, X_test, y_train, y_test = train_test_split(issues, labels, test_size=0.2, random_state=42)"
   ]
  },
  {
   "cell_type": "code",
   "execution_count": 13,
   "id": "792501a7",
   "metadata": {},
   "outputs": [
    {
     "name": "stderr",
     "output_type": "stream",
     "text": [
      "Some weights of BertForSequenceClassification were not initialized from the model checkpoint at bert-base-uncased and are newly initialized: ['classifier.bias', 'classifier.weight']\n",
      "You should probably TRAIN this model on a down-stream task to be able to use it for predictions and inference.\n"
     ]
    }
   ],
   "source": [
    "checkpoint = \"bert-base-uncased\"\n",
    "\n",
    "# Load the pre-trained BERT tokenizer\n",
    "tokenizer = BertTokenizer.from_pretrained(checkpoint)\n",
    "# Define the model\n",
    "model = BertForSequenceClassification.from_pretrained(checkpoint, num_labels=len(labels[0]))"
   ]
  },
  {
   "cell_type": "code",
   "execution_count": 14,
   "id": "5e6ecd78",
   "metadata": {},
   "outputs": [],
   "source": [
    "# Lets build custom dataset\n",
    "class CustomDataset(Dataset):\n",
    "    def __init__(self, issues, labels, tokenizer, max_token_len=128):\n",
    "        self.issues = issues\n",
    "        self.labels = labels\n",
    "        self.tokenizer = tokenizer\n",
    "        self.max_token_len = max_token_len\n",
    "\n",
    "    def __len__(self):\n",
    "        return len(self.issues)\n",
    "\n",
    "    def __getitem__(self, idx):\n",
    "        issues = str(self.issues[idx])\n",
    "        labels = torch.tensor(self.labels[idx])\n",
    "\n",
    "        encoding = self.tokenizer(\n",
    "            issues, \n",
    "            truncation=True,\n",
    "            padding=\"max_length\",\n",
    "            max_length=self.max_token_len,\n",
    "            return_tensors='pt')\n",
    "\n",
    "\n",
    "        return {\n",
    "            'input_ids': np.array(encoding['input_ids']).flatten(),\n",
    "            'attention_mask': np.array(encoding['attention_mask']).flatten(),\n",
    "            'labels': labels\n",
    "        }"
   ]
  },
  {
   "cell_type": "code",
   "execution_count": 15,
   "id": "a8ff21e4",
   "metadata": {},
   "outputs": [],
   "source": [
    "train_dataset = CustomDataset(X_train, y_train, tokenizer)\n",
    "test_dataset = CustomDataset(X_test, y_test, tokenizer)"
   ]
  },
  {
   "cell_type": "code",
   "execution_count": 16,
   "id": "be4c4b60",
   "metadata": {},
   "outputs": [],
   "source": [
    "# Multi-Label Classification Evaluation Metrics\n",
    "def multi_labels_metrics(predictions, labels, threshold=0.3):\n",
    "    sigmoid = torch.nn.Sigmoid()\n",
    "    probs = sigmoid(torch.Tensor(predictions))\n",
    "\n",
    "    y_pred = np.zeros(probs.shape)\n",
    "    y_pred[np.where(probs>=threshold)] = 1\n",
    "    y_true = labels\n",
    "\n",
    "    f1 = f1_score(y_true, y_pred, average = 'macro')\n",
    "    hamming = hamming_loss(y_true, y_pred)\n",
    "\n",
    "    metrics = {\n",
    "      \"hamming_loss\": hamming,\n",
    "      \"f1\": f1\n",
    "    }\n",
    "\n",
    "    return metrics\n",
    "\n",
    "def compute_metrics(p:EvalPrediction):\n",
    "    preds = p.predictions[0] if isinstance(p.predictions, tuple) else p.predictions\n",
    "    result = multi_labels_metrics(predictions=preds, labels=p.label_ids)\n",
    "    return result"
   ]
  },
  {
   "cell_type": "code",
   "execution_count": 17,
   "id": "32d0fced",
   "metadata": {},
   "outputs": [],
   "source": [
    "# Training Arguments\n",
    "args = TrainingArguments(\n",
    "    per_device_train_batch_size=8,\n",
    "    per_device_eval_batch_size=8,\n",
    "    output_dir = './results',\n",
    "    num_train_epochs=50,\n",
    "    save_steps=1000,\n",
    "    save_total_limit=2\n",
    ")\n",
    "\n",
    "trainer = Trainer(model=model,\n",
    "                  args=args,\n",
    "                  train_dataset=train_dataset,\n",
    "                  eval_dataset=test_dataset,\n",
    "                  compute_metrics=compute_metrics)"
   ]
  },
  {
   "cell_type": "code",
   "execution_count": 18,
   "id": "75c62e84",
   "metadata": {},
   "outputs": [
    {
     "data": {
      "text/html": [
       "\n",
       "    <div>\n",
       "      \n",
       "      <progress value='2500' max='2500' style='width:300px; height:20px; vertical-align: middle;'></progress>\n",
       "      [2500/2500 3:57:20, Epoch 50/50]\n",
       "    </div>\n",
       "    <table border=\"1\" class=\"dataframe\">\n",
       "  <thead>\n",
       " <tr style=\"text-align: left;\">\n",
       "      <th>Step</th>\n",
       "      <th>Training Loss</th>\n",
       "    </tr>\n",
       "  </thead>\n",
       "  <tbody>\n",
       "    <tr>\n",
       "      <td>500</td>\n",
       "      <td>0.123100</td>\n",
       "    </tr>\n",
       "    <tr>\n",
       "      <td>1000</td>\n",
       "      <td>0.020700</td>\n",
       "    </tr>\n",
       "    <tr>\n",
       "      <td>1500</td>\n",
       "      <td>0.010600</td>\n",
       "    </tr>\n",
       "    <tr>\n",
       "      <td>2000</td>\n",
       "      <td>0.007400</td>\n",
       "    </tr>\n",
       "    <tr>\n",
       "      <td>2500</td>\n",
       "      <td>0.006200</td>\n",
       "    </tr>\n",
       "  </tbody>\n",
       "</table><p>"
      ],
      "text/plain": [
       "<IPython.core.display.HTML object>"
      ]
     },
     "metadata": {},
     "output_type": "display_data"
    },
    {
     "data": {
      "text/plain": [
       "TrainOutput(global_step=2500, training_loss=0.033610311317443846, metrics={'train_runtime': 14244.0719, 'train_samples_per_second': 1.404, 'train_steps_per_second': 0.176, 'total_flos': 1315720642560000.0, 'train_loss': 0.033610311317443846, 'epoch': 50.0})"
      ]
     },
     "execution_count": 18,
     "metadata": {},
     "output_type": "execute_result"
    }
   ],
   "source": [
    "trainer.train()"
   ]
  },
  {
   "cell_type": "code",
   "execution_count": 19,
   "id": "e9dc04f2",
   "metadata": {},
   "outputs": [
    {
     "data": {
      "text/html": [
       "\n",
       "    <div>\n",
       "      \n",
       "      <progress value='13' max='13' style='width:300px; height:20px; vertical-align: middle;'></progress>\n",
       "      [13/13 00:20]\n",
       "    </div>\n",
       "    "
      ],
      "text/plain": [
       "<IPython.core.display.HTML object>"
      ]
     },
     "metadata": {},
     "output_type": "display_data"
    },
    {
     "data": {
      "text/plain": [
       "{'eval_loss': 0.00713806226849556,\n",
       " 'eval_hamming_loss': 0.0,\n",
       " 'eval_f1': 0.9375,\n",
       " 'eval_runtime': 22.5506,\n",
       " 'eval_samples_per_second': 4.434,\n",
       " 'eval_steps_per_second': 0.576,\n",
       " 'epoch': 50.0}"
      ]
     },
     "execution_count": 19,
     "metadata": {},
     "output_type": "execute_result"
    }
   ],
   "source": [
    "trainer.evaluate()"
   ]
  },
  {
   "cell_type": "code",
   "execution_count": 20,
   "id": "b09bb8c9",
   "metadata": {},
   "outputs": [],
   "source": [
    "def model_prediction(issue):\n",
    "    encoding = tokenizer(issue, return_tensors='pt')\n",
    "    encoding.to(trainer.model.device)\n",
    "\n",
    "    outputs = trainer.model(**encoding)\n",
    "    \n",
    "    sigmoid = torch.nn.Sigmoid()\n",
    "    probs = sigmoid(outputs.logits[0].cpu())\n",
    "    preds = np.zeros(probs.shape)\n",
    "    preds[np.where(probs>=0.3)] = 1\n",
    "    \n",
    "    return list(multilabel.inverse_transform(preds.reshape(1,-1))[0])"
   ]
  },
  {
   "cell_type": "code",
   "execution_count": 21,
   "id": "e5f8cd16",
   "metadata": {},
   "outputs": [
    {
     "data": {
      "text/html": [
       "<div>\n",
       "<style scoped>\n",
       "    .dataframe tbody tr th:only-of-type {\n",
       "        vertical-align: middle;\n",
       "    }\n",
       "\n",
       "    .dataframe tbody tr th {\n",
       "        vertical-align: top;\n",
       "    }\n",
       "\n",
       "    .dataframe thead th {\n",
       "        text-align: right;\n",
       "    }\n",
       "</style>\n",
       "<table border=\"1\" class=\"dataframe\">\n",
       "  <thead>\n",
       "    <tr style=\"text-align: right;\">\n",
       "      <th></th>\n",
       "      <th>issues</th>\n",
       "      <th>true labels</th>\n",
       "      <th>predicted labels</th>\n",
       "    </tr>\n",
       "  </thead>\n",
       "  <tbody>\n",
       "    <tr>\n",
       "      <th>0</th>\n",
       "      <td>Add missing alias to errors array</td>\n",
       "      <td>[activemodel]</td>\n",
       "      <td>[activemodel]</td>\n",
       "    </tr>\n",
       "    <tr>\n",
       "      <th>1</th>\n",
       "      <td>esbuild precompilation error in rails 7.1.3</td>\n",
       "      <td>[unlabeled]</td>\n",
       "      <td>[unlabeled]</td>\n",
       "    </tr>\n",
       "    <tr>\n",
       "      <th>2</th>\n",
       "      <td>Add webp as a default to active_storage.web_im...</td>\n",
       "      <td>[railties, docs, activestorage]</td>\n",
       "      <td>[activestorage, docs, railties]</td>\n",
       "    </tr>\n",
       "    <tr>\n",
       "      <th>3</th>\n",
       "      <td>set default_enforce_utf8 to false</td>\n",
       "      <td>[actionview]</td>\n",
       "      <td>[actionview]</td>\n",
       "    </tr>\n",
       "    <tr>\n",
       "      <th>4</th>\n",
       "      <td>Add class name to enum validation exception me...</td>\n",
       "      <td>[activerecord]</td>\n",
       "      <td>[activerecord]</td>\n",
       "    </tr>\n",
       "    <tr>\n",
       "      <th>5</th>\n",
       "      <td>Add a Rails Guide for tuning performance for d...</td>\n",
       "      <td>[docs]</td>\n",
       "      <td>[docs]</td>\n",
       "    </tr>\n",
       "    <tr>\n",
       "      <th>6</th>\n",
       "      <td>Destroying bi-directional has_one through asso...</td>\n",
       "      <td>[unlabeled]</td>\n",
       "      <td>[unlabeled]</td>\n",
       "    </tr>\n",
       "    <tr>\n",
       "      <th>7</th>\n",
       "      <td>ActiveStorage::IntegrityError (ActiveStorage::...</td>\n",
       "      <td>[unlabeled]</td>\n",
       "      <td>[unlabeled]</td>\n",
       "    </tr>\n",
       "    <tr>\n",
       "      <th>8</th>\n",
       "      <td>Fix error raised when running `db:schema:load:...</td>\n",
       "      <td>[activerecord, railties]</td>\n",
       "      <td>[activerecord, railties]</td>\n",
       "    </tr>\n",
       "    <tr>\n",
       "      <th>9</th>\n",
       "      <td>Introduce today_or_future? method</td>\n",
       "      <td>[activesupport]</td>\n",
       "      <td>[activesupport]</td>\n",
       "    </tr>\n",
       "  </tbody>\n",
       "</table>\n",
       "</div>"
      ],
      "text/plain": [
       "                                              issues  \\\n",
       "0                  Add missing alias to errors array   \n",
       "1        esbuild precompilation error in rails 7.1.3   \n",
       "2  Add webp as a default to active_storage.web_im...   \n",
       "3                  set default_enforce_utf8 to false   \n",
       "4  Add class name to enum validation exception me...   \n",
       "5  Add a Rails Guide for tuning performance for d...   \n",
       "6  Destroying bi-directional has_one through asso...   \n",
       "7  ActiveStorage::IntegrityError (ActiveStorage::...   \n",
       "8  Fix error raised when running `db:schema:load:...   \n",
       "9                  Introduce today_or_future? method   \n",
       "\n",
       "                       true labels                 predicted labels  \n",
       "0                    [activemodel]                    [activemodel]  \n",
       "1                      [unlabeled]                      [unlabeled]  \n",
       "2  [railties, docs, activestorage]  [activestorage, docs, railties]  \n",
       "3                     [actionview]                     [actionview]  \n",
       "4                   [activerecord]                   [activerecord]  \n",
       "5                           [docs]                           [docs]  \n",
       "6                      [unlabeled]                      [unlabeled]  \n",
       "7                      [unlabeled]                      [unlabeled]  \n",
       "8         [activerecord, railties]         [activerecord, railties]  \n",
       "9                  [activesupport]                  [activesupport]  "
      ]
     },
     "execution_count": 21,
     "metadata": {},
     "output_type": "execute_result"
    }
   ],
   "source": [
    "sample_data = df[['issues', 'labels']].head(10)\n",
    "\n",
    "predictons = []\n",
    "for issue in sample_data['issues']:\n",
    "    predict = model_prediction(issue)\n",
    "    predictons.append(predict)\n",
    "sample_data.rename(columns={'labels': 'true labels'}, inplace=True)\n",
    "sample_data['predicted labels'] = predictons\n",
    "sample_data"
   ]
  },
  {
   "cell_type": "code",
   "execution_count": null,
   "id": "5889e993",
   "metadata": {},
   "outputs": [],
   "source": []
  }
 ],
 "metadata": {
  "kernelspec": {
   "display_name": "Python 3 (ipykernel)",
   "language": "python",
   "name": "python3"
  },
  "language_info": {
   "codemirror_mode": {
    "name": "ipython",
    "version": 3
   },
   "file_extension": ".py",
   "mimetype": "text/x-python",
   "name": "python",
   "nbconvert_exporter": "python",
   "pygments_lexer": "ipython3",
   "version": "3.9.7"
  }
 },
 "nbformat": 4,
 "nbformat_minor": 5
}
